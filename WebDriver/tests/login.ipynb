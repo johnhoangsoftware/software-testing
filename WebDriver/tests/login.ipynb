{
 "cells": [
  {
   "cell_type": "code",
   "execution_count": null,
   "metadata": {},
   "outputs": [],
   "source": [
    "print(\"ello ửold\")"
   ]
  },
  {
   "cell_type": "code",
   "execution_count": null,
   "metadata": {},
   "outputs": [],
   "source": []
  }
 ],
 "metadata": {
  "kernelspec": {
   "display_name": "Python 3.10.6 64-bit",
   "language": "python",
   "name": "python3"
  },
  "language_info": {
   "name": "python",
   "version": "3.10.6"
  },
  "orig_nbformat": 4,
  "vscode": {
   "interpreter": {
    "hash": "af0a33a8afe9487b1f8e2d4f267acb4936cf4c18cd4b16f284bdeb62af6985a0"
   }
  }
 },
 "nbformat": 4,
 "nbformat_minor": 2
}
